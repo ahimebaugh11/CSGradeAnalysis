{
 "cells": [
  {
   "cell_type": "code",
   "execution_count": 1,
   "metadata": {
    "cellView": "code",
    "colab": {
     "autoexec": {
      "startup": false,
      "wait_interval": 0
     },
     "base_uri": "https://localhost:8080/",
     "height": 419,
     "resources": {
      "http://localhost:8080/nbextensions/google.colab/files.js": {
       "data": "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",
       "headers": [
        [
         "content-type",
         "application/javascript"
        ]
       ],
       "ok": true,
       "status": 200,
       "status_text": ""
      }
     }
    },
    "colab_type": "code",
    "executionInfo": {
     "elapsed": 10028,
     "status": "error",
     "timestamp": 1527623707633,
     "user": {
      "displayName": "David saffo",
      "photoUrl": "//lh3.googleusercontent.com/-qIyg-0XpgFY/AAAAAAAAAAI/AAAAAAAAD5E/c6ou9nNVr7Q/s50-c-k-no/photo.jpg",
      "userId": "116507934788932346141"
     },
     "user_tz": 300
    },
    "id": "4mm5dTayCgmh",
    "outputId": "27538bef-fa99-4322-8c8a-154ea944fb27"
   },
   "outputs": [
    {
     "name": "stdout",
     "output_type": "stream",
     "text": [
      "Requirement already satisfied: reportlab in c:\\users\\drewh\\anaconda3\\lib\\site-packages (3.4.0)\n",
      "Requirement already satisfied: pip>=1.4.1 in c:\\users\\drewh\\anaconda3\\lib\\site-packages (from reportlab) (10.0.1)\n",
      "Requirement already satisfied: pillow>=2.4.0 in c:\\users\\drewh\\anaconda3\\lib\\site-packages (from reportlab) (5.0.0)\n",
      "Requirement already satisfied: setuptools>=2.2 in c:\\users\\drewh\\anaconda3\\lib\\site-packages (from reportlab) (38.4.0)\n",
      "Requirement already satisfied: Pillow in c:\\users\\drewh\\anaconda3\\lib\\site-packages (5.0.0)\n",
      "Requirement already satisfied: xlrd in c:\\users\\drewh\\anaconda3\\lib\\site-packages (1.1.0)\n"
     ]
    },
    {
     "ename": "FileNotFoundError",
     "evalue": "[Errno 2] No such file or directory: 'Student_Grades 1164[290].xlsx'",
     "output_type": "error",
     "traceback": [
      "\u001b[1;31m---------------------------------------------------------------------------\u001b[0m",
      "\u001b[1;31mFileNotFoundError\u001b[0m                         Traceback (most recent call last)",
      "\u001b[1;32m<ipython-input-1-8a7650e37fe1>\u001b[0m in \u001b[0;36m<module>\u001b[1;34m()\u001b[0m\n\u001b[0;32m     22\u001b[0m \u001b[1;31m#Enter in the path for whatever file you wish to use\u001b[0m\u001b[1;33m\u001b[0m\u001b[1;33m\u001b[0m\u001b[0m\n\u001b[0;32m     23\u001b[0m \u001b[1;31m#==================================================\u001b[0m\u001b[1;33m\u001b[0m\u001b[1;33m\u001b[0m\u001b[0m\n\u001b[1;32m---> 24\u001b[1;33m \u001b[0mdf\u001b[0m \u001b[1;33m=\u001b[0m \u001b[0mpd\u001b[0m\u001b[1;33m.\u001b[0m\u001b[0mread_excel\u001b[0m\u001b[1;33m(\u001b[0m\u001b[1;34m'Student_Grades 1164[290].xlsx'\u001b[0m\u001b[1;33m,\u001b[0m \u001b[0mindex_col\u001b[0m\u001b[1;33m=\u001b[0m\u001b[1;32mNone\u001b[0m\u001b[1;33m)\u001b[0m\u001b[1;33m\u001b[0m\u001b[0m\n\u001b[0m\u001b[0;32m     25\u001b[0m \u001b[1;33m\u001b[0m\u001b[0m\n\u001b[0;32m     26\u001b[0m \u001b[1;33m\u001b[0m\u001b[0m\n",
      "\u001b[1;32m~\\Anaconda3\\lib\\site-packages\\pandas\\util\\_decorators.py\u001b[0m in \u001b[0;36mwrapper\u001b[1;34m(*args, **kwargs)\u001b[0m\n\u001b[0;32m    116\u001b[0m                 \u001b[1;32melse\u001b[0m\u001b[1;33m:\u001b[0m\u001b[1;33m\u001b[0m\u001b[0m\n\u001b[0;32m    117\u001b[0m                     \u001b[0mkwargs\u001b[0m\u001b[1;33m[\u001b[0m\u001b[0mnew_arg_name\u001b[0m\u001b[1;33m]\u001b[0m \u001b[1;33m=\u001b[0m \u001b[0mnew_arg_value\u001b[0m\u001b[1;33m\u001b[0m\u001b[0m\n\u001b[1;32m--> 118\u001b[1;33m             \u001b[1;32mreturn\u001b[0m \u001b[0mfunc\u001b[0m\u001b[1;33m(\u001b[0m\u001b[1;33m*\u001b[0m\u001b[0margs\u001b[0m\u001b[1;33m,\u001b[0m \u001b[1;33m**\u001b[0m\u001b[0mkwargs\u001b[0m\u001b[1;33m)\u001b[0m\u001b[1;33m\u001b[0m\u001b[0m\n\u001b[0m\u001b[0;32m    119\u001b[0m         \u001b[1;32mreturn\u001b[0m \u001b[0mwrapper\u001b[0m\u001b[1;33m\u001b[0m\u001b[0m\n\u001b[0;32m    120\u001b[0m     \u001b[1;32mreturn\u001b[0m \u001b[0m_deprecate_kwarg\u001b[0m\u001b[1;33m\u001b[0m\u001b[0m\n",
      "\u001b[1;32m~\\Anaconda3\\lib\\site-packages\\pandas\\io\\excel.py\u001b[0m in \u001b[0;36mread_excel\u001b[1;34m(io, sheet_name, header, skiprows, skip_footer, index_col, names, usecols, parse_dates, date_parser, na_values, thousands, convert_float, converters, dtype, true_values, false_values, engine, squeeze, **kwds)\u001b[0m\n\u001b[0;32m    228\u001b[0m \u001b[1;33m\u001b[0m\u001b[0m\n\u001b[0;32m    229\u001b[0m     \u001b[1;32mif\u001b[0m \u001b[1;32mnot\u001b[0m \u001b[0misinstance\u001b[0m\u001b[1;33m(\u001b[0m\u001b[0mio\u001b[0m\u001b[1;33m,\u001b[0m \u001b[0mExcelFile\u001b[0m\u001b[1;33m)\u001b[0m\u001b[1;33m:\u001b[0m\u001b[1;33m\u001b[0m\u001b[0m\n\u001b[1;32m--> 230\u001b[1;33m         \u001b[0mio\u001b[0m \u001b[1;33m=\u001b[0m \u001b[0mExcelFile\u001b[0m\u001b[1;33m(\u001b[0m\u001b[0mio\u001b[0m\u001b[1;33m,\u001b[0m \u001b[0mengine\u001b[0m\u001b[1;33m=\u001b[0m\u001b[0mengine\u001b[0m\u001b[1;33m)\u001b[0m\u001b[1;33m\u001b[0m\u001b[0m\n\u001b[0m\u001b[0;32m    231\u001b[0m \u001b[1;33m\u001b[0m\u001b[0m\n\u001b[0;32m    232\u001b[0m     return io._parse_excel(\n",
      "\u001b[1;32m~\\Anaconda3\\lib\\site-packages\\pandas\\io\\excel.py\u001b[0m in \u001b[0;36m__init__\u001b[1;34m(self, io, **kwds)\u001b[0m\n\u001b[0;32m    292\u001b[0m             \u001b[0mself\u001b[0m\u001b[1;33m.\u001b[0m\u001b[0mbook\u001b[0m \u001b[1;33m=\u001b[0m \u001b[0mxlrd\u001b[0m\u001b[1;33m.\u001b[0m\u001b[0mopen_workbook\u001b[0m\u001b[1;33m(\u001b[0m\u001b[0mfile_contents\u001b[0m\u001b[1;33m=\u001b[0m\u001b[0mdata\u001b[0m\u001b[1;33m)\u001b[0m\u001b[1;33m\u001b[0m\u001b[0m\n\u001b[0;32m    293\u001b[0m         \u001b[1;32melif\u001b[0m \u001b[0misinstance\u001b[0m\u001b[1;33m(\u001b[0m\u001b[0mself\u001b[0m\u001b[1;33m.\u001b[0m\u001b[0m_io\u001b[0m\u001b[1;33m,\u001b[0m \u001b[0mcompat\u001b[0m\u001b[1;33m.\u001b[0m\u001b[0mstring_types\u001b[0m\u001b[1;33m)\u001b[0m\u001b[1;33m:\u001b[0m\u001b[1;33m\u001b[0m\u001b[0m\n\u001b[1;32m--> 294\u001b[1;33m             \u001b[0mself\u001b[0m\u001b[1;33m.\u001b[0m\u001b[0mbook\u001b[0m \u001b[1;33m=\u001b[0m \u001b[0mxlrd\u001b[0m\u001b[1;33m.\u001b[0m\u001b[0mopen_workbook\u001b[0m\u001b[1;33m(\u001b[0m\u001b[0mself\u001b[0m\u001b[1;33m.\u001b[0m\u001b[0m_io\u001b[0m\u001b[1;33m)\u001b[0m\u001b[1;33m\u001b[0m\u001b[0m\n\u001b[0m\u001b[0;32m    295\u001b[0m         \u001b[1;32melse\u001b[0m\u001b[1;33m:\u001b[0m\u001b[1;33m\u001b[0m\u001b[0m\n\u001b[0;32m    296\u001b[0m             raise ValueError('Must explicitly set engine if not passing in'\n",
      "\u001b[1;32m~\\Anaconda3\\lib\\site-packages\\xlrd\\__init__.py\u001b[0m in \u001b[0;36mopen_workbook\u001b[1;34m(filename, logfile, verbosity, use_mmap, file_contents, encoding_override, formatting_info, on_demand, ragged_rows)\u001b[0m\n\u001b[0;32m    114\u001b[0m         \u001b[0mpeek\u001b[0m \u001b[1;33m=\u001b[0m \u001b[0mfile_contents\u001b[0m\u001b[1;33m[\u001b[0m\u001b[1;33m:\u001b[0m\u001b[0mpeeksz\u001b[0m\u001b[1;33m]\u001b[0m\u001b[1;33m\u001b[0m\u001b[0m\n\u001b[0;32m    115\u001b[0m     \u001b[1;32melse\u001b[0m\u001b[1;33m:\u001b[0m\u001b[1;33m\u001b[0m\u001b[0m\n\u001b[1;32m--> 116\u001b[1;33m         \u001b[1;32mwith\u001b[0m \u001b[0mopen\u001b[0m\u001b[1;33m(\u001b[0m\u001b[0mfilename\u001b[0m\u001b[1;33m,\u001b[0m \u001b[1;34m\"rb\"\u001b[0m\u001b[1;33m)\u001b[0m \u001b[1;32mas\u001b[0m \u001b[0mf\u001b[0m\u001b[1;33m:\u001b[0m\u001b[1;33m\u001b[0m\u001b[0m\n\u001b[0m\u001b[0;32m    117\u001b[0m             \u001b[0mpeek\u001b[0m \u001b[1;33m=\u001b[0m \u001b[0mf\u001b[0m\u001b[1;33m.\u001b[0m\u001b[0mread\u001b[0m\u001b[1;33m(\u001b[0m\u001b[0mpeeksz\u001b[0m\u001b[1;33m)\u001b[0m\u001b[1;33m\u001b[0m\u001b[0m\n\u001b[0;32m    118\u001b[0m     \u001b[1;32mif\u001b[0m \u001b[0mpeek\u001b[0m \u001b[1;33m==\u001b[0m \u001b[1;34mb\"PK\\x03\\x04\"\u001b[0m\u001b[1;33m:\u001b[0m \u001b[1;31m# a ZIP file\u001b[0m\u001b[1;33m\u001b[0m\u001b[0m\n",
      "\u001b[1;31mFileNotFoundError\u001b[0m: [Errno 2] No such file or directory: 'Student_Grades 1164[290].xlsx'"
     ]
    }
   ],
   "source": [
    "#@title Default title text\n",
    "\n",
    "\n",
    "import numpy as np\n",
    "import pandas as pd\n",
    "import scipy as sp\n",
    "import matplotlib.pyplot as plt\n",
    "import matplotlib.mlab as mlab\n",
    "import math\n",
    "\n",
    "import string\n",
    "import random\n",
    "import operator\n",
    "import datetime\n",
    "import time\n",
    "!pip install reportlab\n",
    "!pip install Pillow\n",
    "!pip install xlrd\n",
    "classes = []\n",
    "\n",
    "#==================================================\n",
    "#Enter in the path for whatever file you wish to use\n",
    "#==================================================\n",
    "df = pd.read_excel('Student_Grades 1164[290].xlsx', index_col=None)\n",
    "\n",
    "\n",
    "\n",
    "\n",
    "#Removes any unwanted columns\n",
    "colNames = list(df.columns.values)\n",
    "for n in colNames:\n",
    "  if(n != 'LID' and n!= 'TERM' and n!= 'FINAL GRADE' and n!= 'ACADEMIC ORG' and n!= 'CATALOG'):\n",
    "    df = df.drop(str(n), axis=1)\n",
    "students = df['LID'].unique()\n",
    "classes = df['CATALOG'].unique()\n",
    "semesters = df['TERM']\n",
    "##sorts classes in numerical order\n",
    "classes.sort()\n",
    "newdf = pd.DataFrame()\n",
    "newdf = pd.concat([pd.DataFrame(students)], axis=1, join='inner')\n",
    "grades = df['FINAL GRADE']\n",
    "#converts grades\n",
    "for i in range(len(grades)):\n",
    "    if(grades[i] == 'A'):\n",
    "        grades[i] = 4\n",
    "    elif(grades[i] == 'A-'):\n",
    "        grades[i] = 3.67\n",
    "    elif(grades[i] == 'B+'):\n",
    "        grades[i] = 3.34\n",
    "    elif(grades[i] == 'B'):\n",
    "        grades[i] = 3\n",
    "    elif(grades[i] == 'B-'):\n",
    "        grades[i] = 2.67\n",
    "    elif(grades[i] == 'C+'):\n",
    "        grades[i] = 2.34\n",
    "    elif(grades[i] == 'C'):\n",
    "        grades[i] = 2\n",
    "    elif(grades[i] == 'C-'):\n",
    "        grades[i] = 1.67\n",
    "    elif(grades[i] == 'D+'):\n",
    "        grades[i] = 1.33\n",
    "    elif(grades[i] == 'D'):\n",
    "        grades[i] = 1\n",
    "    elif(grades[i] == 'F'):\n",
    "        grades[i] = 0\n",
    "    elif(grades[i] == 'WF'):\n",
    "        grades[i] = 0\n",
    "sems = []\n",
    "\n",
    "#Fills Grades\n",
    "for c in classes:\n",
    "  tempGrades = []\n",
    "  dataC = df.loc[df['CATALOG']== c]\n",
    "    \n",
    "  for s in students:\n",
    "    x = dataC.loc[df['LID'] == s]\n",
    "    x = x['FINAL GRADE'].values\n",
    "    tempGrades.append(x)\n",
    "  newdf = pd.concat([newdf,pd.DataFrame(tempGrades)], axis=1)\n",
    "\n",
    "#Fills semester columns\n",
    "for c in classes:\n",
    "  tempSems = []\n",
    "  dataC = df.loc[df['CATALOG']== c]\n",
    "  semesters = dataC['TERM']\n",
    "  \n",
    "  for s in semesters:\n",
    "    y = dataC.loc[df['TERM'] == s]\n",
    "    semester = y['TERM'].values\n",
    "    semester = semester[0]\n",
    "    tempSems.append(str(semester))\n",
    "  newdf = pd.concat([newdf,pd.DataFrame(tempSems)], axis=1)\n",
    " \n",
    "classes = classes.tolist()\n",
    "semesterCols = []\n",
    "\n"
   ]
  },
  {
   "cell_type": "code",
   "execution_count": null,
   "metadata": {
    "colab": {
     "autoexec": {
      "startup": false,
      "wait_interval": 0
     },
     "base_uri": "https://localhost:8080/",
     "height": 948
    },
    "colab_type": "code",
    "executionInfo": {
     "elapsed": 428,
     "status": "error",
     "timestamp": 1527622239464,
     "user": {
      "displayName": "Andrew Himebaugh",
      "photoUrl": "//lh3.googleusercontent.com/-oDG_3jNR5mU/AAAAAAAAAAI/AAAAAAAAACI/grHPnfbP4IM/s50-c-k-no/photo.jpg",
      "userId": "116796433226036534624"
     },
     "user_tz": 300
    },
    "id": "zyIi5BYQDa6Y",
    "outputId": "29e3b781-dbdd-47f0-f001-e9f9c4cc89a4"
   },
   "outputs": [],
   "source": [
    "#Fills names in for columns\n",
    "for i in range(len(classes)):\n",
    "  semesterCols.append(str(classes[i]) + ' TERM')\n",
    "  classes.append(str(classes[i]) + ' TERM')\n",
    "    \n",
    "classes.insert(0,'LID')\n",
    "# classes.append('GPA')\n",
    "newdf.columns = classes\n",
    "classes = [x for x in classes if x not in semesterCols]\n",
    "# classes.remove('GPA')\n",
    "classes.remove('LID')\n"
   ]
  },
  {
   "cell_type": "code",
   "execution_count": null,
   "metadata": {
    "colab": {
     "autoexec": {
      "startup": false,
      "wait_interval": 0
     },
     "base_uri": "https://localhost:8080/",
     "height": 228
    },
    "colab_type": "code",
    "executionInfo": {
     "elapsed": 701,
     "status": "error",
     "timestamp": 1527622655324,
     "user": {
      "displayName": "Andrew Himebaugh",
      "photoUrl": "//lh3.googleusercontent.com/-oDG_3jNR5mU/AAAAAAAAAAI/AAAAAAAAACI/grHPnfbP4IM/s50-c-k-no/photo.jpg",
      "userId": "116796433226036534624"
     },
     "user_tz": 300
    },
    "id": "awZbugEeDN_4",
    "outputId": "bba707c8-3e87-4a57-e462-1c4d10215416"
   },
   "outputs": [],
   "source": [
    "#Finds students GPA\n",
    "meanGrades = []\n",
    "tempClass = []\n",
    "for c in classes:\n",
    "    tempClass.append(str(c))\n",
    "\n",
    "for s in students:\n",
    "    total = []\n",
    "    dataS = newdf.loc[pd.Series(newdf['LID']) == s]\n",
    "    for column in newdf:\n",
    "        \n",
    "        if(str(newdf[column].name) in tempClass):\n",
    "            total.append(newdf[column][0])\n",
    "            \n",
    "    meanGrades.append(np.mean(total))  \n",
    "newdf = pd.concat([newdf, pd.DataFrame(meanGrades)], axis = 1)\n",
    "#fixes column names\n",
    "for i in semesterCols:\n",
    "  classes.append(i)  \n",
    "classes.insert(0,'LID')\n",
    "classes.append('GPA')\n",
    "newdf.columns = classes   \n",
    "\n"
   ]
  },
  {
   "cell_type": "code",
   "execution_count": null,
   "metadata": {
    "colab": {
     "autoexec": {
      "startup": false,
      "wait_interval": 0
     },
     "base_uri": "https://localhost:8080/",
     "height": 67
    },
    "colab_type": "code",
    "executionInfo": {
     "elapsed": 203,
     "status": "ok",
     "timestamp": 1527621129916,
     "user": {
      "displayName": "Andrew Himebaugh",
      "photoUrl": "//lh3.googleusercontent.com/-oDG_3jNR5mU/AAAAAAAAAAI/AAAAAAAAACI/grHPnfbP4IM/s50-c-k-no/photo.jpg",
      "userId": "116796433226036534624"
     },
     "user_tz": 300
    },
    "id": "Mo86VePBRToV",
    "outputId": "152655fb-edee-44d2-ce18-1c70fafc72a0"
   },
   "outputs": [],
   "source": [
    "\n",
    "    \n",
    "  "
   ]
  },
  {
   "cell_type": "code",
   "execution_count": null,
   "metadata": {
    "colab": {
     "autoexec": {
      "startup": false,
      "wait_interval": 0
     }
    },
    "colab_type": "code",
    "id": "pwYGNZ4pSMqC"
   },
   "outputs": [],
   "source": []
  },
  {
   "cell_type": "code",
   "execution_count": null,
   "metadata": {
    "colab": {
     "autoexec": {
      "startup": false,
      "wait_interval": 0
     }
    },
    "colab_type": "code",
    "id": "7fz9d8PbE6dn"
   },
   "outputs": [],
   "source": [
    "#Demonstrates distro of grades in each class, uncomment to display\n",
    "def normal_plot(data):\n",
    "  \n",
    "  x = data\n",
    "  mu = np.mean(x)\n",
    "  sigma = np.std(x)\n",
    "  count, bins, ignored = plt.hist(x, 10)\n",
    "  plt.plot(bins\n",
    "           , (sigma * np.sqrt(2 * np.pi)) * np.exp( - (bins - mu)**2 / (2 * sigma**2)), linewidth=2, color='r')\n",
    "  \n",
    "#   print(svgNames[counter])\n",
    "#   plt.savefig(\"plot0.png\")\n",
    "  \n",
    "#   print(type(svgNames[counter]))\n",
    "#   svg = Image.open(\"plot0.png\")\n",
    "#   svg.save(svgNames)\n",
    "  \n",
    "  \n",
    "  plt.show()\n",
    "  \n",
    "  \n",
    "#BLUE = distribution of students performances\n",
    "#RED = probability of each grade\n",
    "\n",
    "def class_average(class1): \n",
    "  average = []\n",
    "  avData = newdf[class1]\n",
    "  avData = pd.DataFrame(avData)\n",
    "  for index, row in avData.iterrows():\n",
    "    average.append(row[class1])    \n",
    "  return np.mean(average)\n",
    "\n",
    "def class_average_gap(data): \n",
    "  average = []\n",
    "  \n",
    "  for index, row in data.iterrows():\n",
    "    \n",
    "    average.append(row[1])    \n",
    "  return np.mean(average)\n",
    "\n",
    "def month_gap():\n",
    "  summerGap = []\n",
    "  semesterGap = []\n",
    "  noGap = []\n",
    "  \n",
    "  \n",
    "  for index, row in newdf.iterrows():\n",
    "    x = row['COMP 1 Date'].values\n",
    "    y = row['COMP 2 Date'].values\n",
    "    x = x[0]\n",
    "    y = y[0]\n",
    "    if(y.month == 3 and x.month == 7):\n",
    "      noGap.append(row.values)\n",
    "    elif(y.month == 7 and x.month == 3):\n",
    "      summerGap.append(row.values)\n",
    "    elif((y.month == 7 and x.month == 7) or (y.month == 3 and x.month == 3)):\n",
    "      semesterGap.append(row.values)\n",
    "    \n",
    "  return pd.DataFrame(summerGap),pd.DataFrame(noGap),pd.DataFrame(semesterGap),\n",
    "\n",
    "def class_min(class1): \n",
    "  minVal = 4\n",
    "  avData = newdf[class1]\n",
    "  avData = pd.DataFrame(avData)\n",
    "  for index, row in avData.iterrows():\n",
    "    if(row[class1]<minVal):\n",
    "      minVal = row[class1]  \n",
    "  return minVal\n",
    "\n",
    "def class_max(class1): \n",
    "  maxVal = 0\n",
    "  avData = newdf[class1]\n",
    "  avData = pd.DataFrame(avData)\n",
    "  for index, row in avData.iterrows():\n",
    "    if(row[class1]>maxVal):\n",
    "      maxVal = row[class1]\n",
    "  return maxVal\n",
    "\n",
    "def class_STD(class1):\n",
    "  STD = []\n",
    "  avData = newdf[class1]\n",
    "  avData = pd.DataFrame(avData)\n",
    "  for index, row in avData.iterrows():\n",
    "    STD.append(row[class1])\n",
    "  return np.std(STD)\n",
    "\n",
    "#line graph of students progress through the classes, uncomment to display\n",
    "def student_prog(stuIndx):\n",
    "  plot1 = newdf.loc[stuIndx,classes]\n",
    "  plot1 = np.array(plot1)\n",
    "  plt.plot(classes,plot1)\n",
    "\n",
    "def student_grouper(students):\n",
    "  aboveAveStudents = []\n",
    "  aveStudents = []\n",
    "  belowAveStudents = []\n",
    "  for index, row in newdf.iterrows():\n",
    "    if(row['GPA']>=3.5): \n",
    "      aboveAveStudents.append(row.values)\n",
    "    elif(row['GPA']<3.5 and row['GPA']>2.5):\n",
    "      aveStudents.append(row.values)\n",
    "    elif(row['GPA']<2.5):\n",
    "      belowAveStudents.append(row)                   \n",
    "  return pd.DataFrame(aboveAveStudents),pd.DataFrame(aveStudents),pd.DataFrame(belowAveStudents)"
   ]
  },
  {
   "cell_type": "code",
   "execution_count": null,
   "metadata": {
    "colab_type": "text",
    "id": "NLtWRL63DTfj"
   },
   "outputs": [],
   "source": []
  },
  {
   "cell_type": "code",
   "execution_count": null,
   "metadata": {
    "colab": {
     "autoexec": {
      "startup": false,
      "wait_interval": 0
     },
     "base_uri": "https://localhost:8080/",
     "height": 613
    },
    "colab_type": "code",
    "executionInfo": {
     "elapsed": 415,
     "status": "error",
     "timestamp": 1527619416598,
     "user": {
      "displayName": "Andrew Himebaugh",
      "photoUrl": "//lh3.googleusercontent.com/-oDG_3jNR5mU/AAAAAAAAAAI/AAAAAAAAACI/grHPnfbP4IM/s50-c-k-no/photo.jpg",
      "userId": "116796433226036534624"
     },
     "user_tz": 300
    },
    "id": "jYGxQH5mCu5H",
    "outputId": "63b5e921-228c-4687-9c71-8df9857bff93"
   },
   "outputs": [],
   "source": [
    "A, B, C = student_grouper(students)\n",
    "\n",
    "\n",
    "#A.columns = [classes]\n",
    "B.columns = [classes]\n",
    "#C.columns = [classes]\n",
    "classes = [x for x in classes if x not in semesterCols]\n",
    "classes.remove('GPA')\n",
    "classes.remove('LID')\n",
    "print(B)\n",
    "\n",
    "\n",
    "#D,E,F = month_gap()\n",
    "\n",
    "line = plt.figure()\n",
    "svgNames = []\n",
    "counter = 0\n",
    "\n",
    "for c in classes:\n",
    "  \n",
    "#   svgNames.append('plot'+str(counter))\n",
    "#   svgNames[counter] = svgNames[counter]+'.svg'\n",
    "  \n",
    "  normal_plot(newdf[c].values)\n",
    "  print(str(c)+\" GPA is \"+str(class_average(c)))\n",
    "  print(str(c)+\" standard deviation is \"+str(class_STD(c)))\n",
    "  print(str(c)+\" lowest grade is \"+str(class_min(c)))\n",
    "  print(str(c)+\" highest grade is \"+str(class_max(c)))\n",
    "  counter+=1\n",
    "\n",
    "\n",
    "\n",
    "\n"
   ]
  },
  {
   "cell_type": "code",
   "execution_count": null,
   "metadata": {
    "colab": {
     "autoexec": {
      "startup": false,
      "wait_interval": 0
     },
     "base_uri": "https://localhost:8080/",
     "height": 580
    },
    "colab_type": "code",
    "executionInfo": {
     "elapsed": 313,
     "status": "error",
     "timestamp": 1527616878329,
     "user": {
      "displayName": "Andrew Himebaugh",
      "photoUrl": "//lh3.googleusercontent.com/-oDG_3jNR5mU/AAAAAAAAAAI/AAAAAAAAACI/grHPnfbP4IM/s50-c-k-no/photo.jpg",
      "userId": "116796433226036534624"
     },
     "user_tz": 300
    },
    "id": "5_FaFFa7DtAA",
    "outputId": "a894d42d-64de-41f5-b5df-3e44e5689725"
   },
   "outputs": [],
   "source": [
    "c = []\n",
    "\n",
    "for i in range (len(classes)):\n",
    "  c.append(classes[i])\n",
    "c = pd.DataFrame(c)\n",
    "c.head()\n",
    "plt.plot(c[:len(A)],A[classes].values, \"o\", c='g', alpha = 1)\n",
    "plt.plot(c[:len(B)],B[classes].values, \"o\", c='b', alpha = .1)\n",
    "plt.plot(c[:len(C)],C[classes].values, \"o\", c='r', alpha = .1)\n",
    "plt.show()\n",
    "plt.plot(c[:len(A)],A[classes].values, \"o\", c='g', alpha = .1)\n",
    "plt.plot(c[:len(B)],B[classes].values, \"o\", c='b', alpha = 1)\n",
    "plt.plot(c[:len(C)],C[classes].values, \"o\", c='r', alpha = .1)\n",
    "plt.show()\n",
    "plt.plot(c[:len(A)],A[classes].values, \"o\", c='g', alpha = .1)\n",
    "plt.plot(c[:len(B)],B[classes].values, \"o\", c='b', alpha = .1)\n",
    "plt.plot(c[:len(C)],C[classes].values, \"o\", c='r', alpha = 1)\n",
    "plt.show()\n",
    "\n",
    "#c = canvas.Canvas(\"gradeAnalysisReport.pdf\")\n",
    "c = canvas.Canvas('gradeAnalysisReport.pdf', pagesize=letter)\n",
    "width, height = letter\n",
    "c.drawString(100,750,\"CS Department Grade Analytics: Currently broken, Plots being silly\")\n",
    "\n",
    "\n",
    "\n",
    "\n",
    "\n",
    "yAxis = 705\n",
    "xAxis = 20\n",
    "c.drawString(xAxis,725,(\"Students with no gap between classes 1 and 2 had an average GPA of \"+str(class_average_gap(D))))\n",
    "c.drawString(xAxis,710,(\"Students with a semester gap between classes 1 and 2 had an average GPA of \"+str(class_average_gap(F))))\n",
    "c.drawString(xAxis,695,(\"Students with a summer gap between classes 1 and 2 had an average GPA of \"+str(class_average_gap(E))))\n",
    "\n",
    "for x in classes:\n",
    "  if(yAxis>0):\n",
    "    yAxis = yAxis-25\n",
    "    c.drawString(xAxis,yAxis,(x+\" Stats:\"))\n",
    "    yAxis = yAxis-25\n",
    "    c.drawString(xAxis,yAxis,(x+\" GPA is \"+str(class_average(x))))\n",
    "    yAxis = yAxis-25\n",
    "    c.drawString(xAxis,yAxis,(x+\" standard deviation is \"+str(class_STD(x))))\n",
    "    yAxis = yAxis-25\n",
    "    c.drawString(xAxis,yAxis,(x+\" lowest grade is \"+str(class_min(x))))\n",
    "    yAxis = yAxis-25\n",
    "    c.drawString(xAxis,yAxis,(x+\" highest grade is \"+str(class_max(x))))\n",
    "    yAxis = yAxis-25\n",
    "    c.drawString(xAxis,yAxis,(\" \"))\n",
    "  else:\n",
    "    yAxis = 650\n",
    "    xAxis +=300\n",
    "    \n",
    "  \n",
    "  \n",
    "\n",
    "  \n",
    "  \n",
    "  \n",
    "  \n",
    "  \n",
    "# svg = Image.open('plot0.svg')\n",
    "# print(svg.size)\n",
    "# svg = svg.resize( [int(.5 * s) for s in svg.size] )\n",
    "# print(svg.size)\n",
    "# img.save('pdfPlot.jpg')\n",
    "# c.drawImage('pdfPlot.jpg',25,500)\n",
    "\n",
    "\n",
    "\n",
    " \n",
    "\n",
    "\n",
    "\n",
    "\n",
    "\n",
    "\n",
    "\n",
    "\n",
    "\n",
    "c.save()\n",
    "files.download('gradeAnalysisReport.pdf')"
   ]
  },
  {
   "cell_type": "code",
   "execution_count": null,
   "metadata": {
    "colab": {
     "autoexec": {
      "startup": false,
      "wait_interval": 0
     }
    },
    "colab_type": "code",
    "id": "ujxuWq70Dt9e"
   },
   "outputs": [],
   "source": [
    "\n",
    "\n"
   ]
  },
  {
   "cell_type": "code",
   "execution_count": null,
   "metadata": {
    "colab": {
     "autoexec": {
      "startup": false,
      "wait_interval": 0
     }
    },
    "colab_type": "code",
    "id": "taqh1bdeJ3q8"
   },
   "outputs": [],
   "source": []
  },
  {
   "cell_type": "code",
   "execution_count": null,
   "metadata": {},
   "outputs": [],
   "source": []
  },
  {
   "cell_type": "code",
   "execution_count": null,
   "metadata": {},
   "outputs": [],
   "source": []
  },
  {
   "cell_type": "code",
   "execution_count": null,
   "metadata": {},
   "outputs": [],
   "source": []
  },
  {
   "cell_type": "code",
   "execution_count": null,
   "metadata": {},
   "outputs": [],
   "source": []
  },
  {
   "cell_type": "code",
   "execution_count": null,
   "metadata": {},
   "outputs": [],
   "source": []
  },
  {
   "cell_type": "code",
   "execution_count": null,
   "metadata": {},
   "outputs": [],
   "source": []
  },
  {
   "cell_type": "code",
   "execution_count": null,
   "metadata": {},
   "outputs": [],
   "source": []
  },
  {
   "cell_type": "code",
   "execution_count": null,
   "metadata": {},
   "outputs": [],
   "source": []
  },
  {
   "cell_type": "code",
   "execution_count": null,
   "metadata": {},
   "outputs": [],
   "source": []
  },
  {
   "cell_type": "code",
   "execution_count": null,
   "metadata": {},
   "outputs": [],
   "source": []
  },
  {
   "cell_type": "code",
   "execution_count": null,
   "metadata": {},
   "outputs": [],
   "source": []
  },
  {
   "cell_type": "code",
   "execution_count": null,
   "metadata": {},
   "outputs": [],
   "source": []
  },
  {
   "cell_type": "code",
   "execution_count": null,
   "metadata": {},
   "outputs": [],
   "source": []
  },
  {
   "cell_type": "code",
   "execution_count": null,
   "metadata": {},
   "outputs": [],
   "source": []
  },
  {
   "cell_type": "code",
   "execution_count": null,
   "metadata": {},
   "outputs": [],
   "source": []
  },
  {
   "cell_type": "code",
   "execution_count": null,
   "metadata": {},
   "outputs": [],
   "source": []
  },
  {
   "cell_type": "code",
   "execution_count": null,
   "metadata": {},
   "outputs": [],
   "source": []
  },
  {
   "cell_type": "code",
   "execution_count": null,
   "metadata": {},
   "outputs": [],
   "source": []
  },
  {
   "cell_type": "code",
   "execution_count": null,
   "metadata": {},
   "outputs": [],
   "source": []
  }
 ],
 "metadata": {
  "colab": {
   "default_view": {},
   "name": "possiblefinal.ipynb",
   "provenance": [],
   "version": "0.3.2",
   "views": {}
  },
  "kernelspec": {
   "display_name": "Python 3",
   "language": "python",
   "name": "python3"
  },
  "language_info": {
   "codemirror_mode": {
    "name": "ipython",
    "version": 3
   },
   "file_extension": ".py",
   "mimetype": "text/x-python",
   "name": "python",
   "nbconvert_exporter": "python",
   "pygments_lexer": "ipython3",
   "version": "3.6.4"
  }
 },
 "nbformat": 4,
 "nbformat_minor": 1
}
